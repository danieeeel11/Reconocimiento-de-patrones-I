{
  "cells": [
    {
      "cell_type": "markdown",
      "metadata": {
        "id": "RcLJ9nx7qQZN"
      },
      "source": [
        "# **C3 - Laboratorio Reconocimiento de patrones II**\n",
        "\n",
        "**Autores:**  \n",
        "\n",
        "* Esteban Rodriguez\n",
        "* Daniel Velasquez\n",
        "* Santiago Niño\n",
        "\n",
        "Ciencias de la computación e Inteligencia Artificial\n",
        "\n",
        "\n",
        "Vida Artificial"
      ]
    },
    {
      "cell_type": "markdown",
      "metadata": {
        "id": "Yiy2QKAoReUC"
      },
      "source": [
        "# __Bibliotecas usadas__"
      ]
    },
    {
      "cell_type": "code",
      "execution_count": 269,
      "metadata": {},
      "outputs": [],
      "source": [
        "try:\n",
        "    import IPython\n",
        "    import numpy as np\n",
        "    import random\n",
        "    import matplotlib.pyplot as plt\n",
        "    import os\n",
        "    import requests\n",
        "    import time\n",
        "    import platform\n",
        "    import psutil\n",
        "    from PIL import Image\n",
        "    from IPython.display import HTML\n",
        "    from matplotlib.animation import FuncAnimation\n",
        "    from IPython import display\n",
        "\n",
        "except ImportError:\n",
        "    %pip install IPython\n",
        "    %pip install numpy\n",
        "    %pip install matplotlib\n",
        "    %pip install requests\n",
        "    %pip install psutil\n",
        "    %pip install PIL\n",
        "    \n",
        "    import numpy as np\n",
        "    import random\n",
        "    import matplotlib.pyplot as plt\n",
        "    import os\n",
        "    import requests\n",
        "    import time\n",
        "    import platform\n",
        "    import psutil\n",
        "    from PIL import Image\n",
        "    from IPython.display import HTML\n",
        "    from matplotlib.animation import FuncAnimation\n",
        "    from IPython import display"
      ]
    },
    {
      "cell_type": "code",
      "execution_count": 270,
      "metadata": {
        "id": "uVe-qA9HuFqE"
      },
      "outputs": [],
      "source": [
        "#import numpy as np\n",
        "#import random\n",
        "#import matplotlib.pyplot as plt\n",
        "#import os\n",
        "#import requests\n",
        "\n",
        "#import time\n",
        "#import platform\n",
        "#import psutil\n",
        "\n",
        "#from PIL import Image\n",
        "#from IPython.display import HTML\n",
        "#from matplotlib.animation import FuncAnimation\n",
        "#from IPython import display"
      ]
    },
    {
      "cell_type": "markdown",
      "metadata": {
        "id": "kxh0Mouu36H1"
      },
      "source": [
        "# Enunciado"
      ]
    },
    {
      "cell_type": "markdown",
      "metadata": {
        "id": "zDUvMyWJ39SU"
      },
      "source": [
        "Tome una foto de todos los miembros del grupo. La foto debe tener mínimo una resolución HD (720 X 1280 pixeles).\n",
        "\n",
        "- Convierta la imagen en un arreglo unidimensional (Considere los 3 canales)\n",
        "\n",
        "- Utilice su implementación de GA para generar la imagen y realice una animación que permita ver el proceso de generación del patrón.\n",
        "\n",
        "- En 3 diapositivas, incluya:\n",
        "\n",
        "1. Gráfica de fitness generada durante el proceso de entrenamiento. Tiempo de ejecución y características de la máquina donde se ejecutó el experimento.\n",
        "\n",
        "2. Los diferentes operadores genéticos utilizados.\n",
        "\n",
        "3. Mencione si realizó ajustes sobre hiperparámetros como la probabilidad de mutación, porcentaje de elitismo, criterio de parada etc."
      ]
    },
    {
      "cell_type": "markdown",
      "metadata": {
        "id": "n0O5IEH2bQCU"
      },
      "source": [
        "# Clases"
      ]
    },
    {
      "cell_type": "markdown",
      "metadata": {
        "id": "WKFJxnjHRjJa"
      },
      "source": [
        "## Constantes"
      ]
    },
    {
      "cell_type": "code",
      "execution_count": 271,
      "metadata": {
        "id": "H_a6i3n68cs1"
      },
      "outputs": [],
      "source": [
        "class constantes:\n",
        "    num_generaciones = 200\n",
        "    factor = 25\n",
        "    prob_cruce = 0.97\n",
        "    prob_mutacion = 0.1\n",
        "    porc_elitismo = 0"
      ]
    },
    {
      "cell_type": "markdown",
      "metadata": {
        "id": "oUkQk69-R5vK"
      },
      "source": [
        "## Individuo"
      ]
    },
    {
      "cell_type": "code",
      "execution_count": 272,
      "metadata": {
        "id": "QvjK7aSKVsWv"
      },
      "outputs": [],
      "source": [
        "class individuo2:\n",
        "    def __init__(self, cromosoma, fitness):\n",
        "        self._cromosoma = cromosoma\n",
        "        self.fitness = fitness\n",
        "        self.value = self._calculate_fitness(self._cromosoma)\n",
        "\n",
        "    def _calculate_fitness(self, value):\n",
        "        return self.fitness(value)\n",
        "\n",
        "    @property\n",
        "    def cromosoma(self):\n",
        "        return self._cromosoma\n",
        "\n",
        "    @cromosoma.setter\n",
        "    def cromosoma(self, value):\n",
        "        self._cromosoma = value\n",
        "        self.value = self._calculate_fitness(value)"
      ]
    },
    {
      "cell_type": "code",
      "execution_count": 273,
      "metadata": {},
      "outputs": [],
      "source": [
        "class individuo:\n",
        "    def __init__(self, cromosoma, fitness):\n",
        "        self.cromosoma = cromosoma\n",
        "        self.fitness = fitness\n",
        "        #self.value = self._calculate_fitness(self._cromosoma)\n",
        "        self.value = fitness\n",
        "\n",
        "    def _calculate_fitness(self, value):\n",
        "        return self.fitness(value)\n",
        "\n",
        "    #@property\n",
        "    #def cromosoma(self):\n",
        "    #    return self._cromosoma\n",
        "\n",
        "    #@cromosoma.setter\n",
        "    #def cromosoma(self, value):\n",
        "    #    self._cromosoma = value\n",
        "    #    self.value = self._calculate_fitness(value)"
      ]
    },
    {
      "cell_type": "markdown",
      "metadata": {
        "id": "TT5EsKISb-jc"
      },
      "source": [
        "## OperadorGenetico"
      ]
    },
    {
      "cell_type": "code",
      "execution_count": 274,
      "metadata": {
        "id": "KafUsROEYf15"
      },
      "outputs": [],
      "source": [
        "class OperadorGenetico:\n",
        "    def __init__(self, poblacion, tipo, prob_cruce=0.5, prob_mutacion=0.5):\n",
        "      self.poblacion = poblacion\n",
        "      self.tipo = tipo\n",
        "      self.prob_cruce = prob_cruce\n",
        "      self.prob_mutacion = prob_mutacion\n",
        "\n",
        "    def opcion(self):\n",
        "      #metodos seleccion\n",
        "      if self.tipo == 'ruleta' or self.tipo == 'estocastico' or self.tipo == 'ranking' or self.tipo == 'torneo':\n",
        "        return self.seleccion()\n",
        "      #metodos cruce\n",
        "      if self.tipo == 'basado_punto' or self.tipo == 'basado_dos_puntos' or self.tipo == 'uniforme':\n",
        "        return self.cruce()\n",
        "      #metodos mutacion\n",
        "      if self.tipo == 'flit_bit' or self.tipo == 'inversion_mutation' or self.tipo == 'inversion_mutation' or self.tipo == 'scramble':\n",
        "        return self.mutacion()\n",
        "\n",
        "    def seleccion(self):\n",
        "      if self.tipo == \"ruleta\":\n",
        "        next_generation = []\n",
        "        total_fitness = np.sum([indiv.value for indiv in self.poblacion])\n",
        "        probabilidades = [indiv.value / total_fitness for indiv in self.poblacion]\n",
        "        while len(next_generation) <= len(self.poblacion):\n",
        "            individuo_ruleta = np.random.choice(a=self.poblacion, size=1, replace=True, p=probabilidades)\n",
        "            next_generation.append(individuo_ruleta[0])\n",
        "        return next_generation\n",
        "\n",
        "      elif self.tipo == \"estocastico\":\n",
        "        next_generation = []\n",
        "        if len(self.population) == 1:\n",
        "            return self.population[0]\n",
        "        total_fitness = np.sum([indiv.value for indiv in self.poblacion])\n",
        "        probabilidades = [indiv.value / total_fitness for indiv in self.poblacion]\n",
        "        while len(next_generation) <= len(self.poblacion) - 1:\n",
        "            if sum(probabilidades) < 1:\n",
        "                probabilidades[-1] += 1 - sum(probabilidades)\n",
        "            r = np.random.random()\n",
        "            c = probabilidades[0]\n",
        "            i = 0\n",
        "            while c < r:\n",
        "                i += 1\n",
        "                c += probabilidades[i]\n",
        "            next_generation.append(self.poblacion[i])\n",
        "        return next_generation\n",
        "\n",
        "      elif self.tipo == \"ranking\":\n",
        "        next_generation = []\n",
        "        ordenando = np.argsort([indiv.value for indiv in self.poblacion]) + 1\n",
        "        rangos = np.argsort(ordenando) + 1\n",
        "        seleccion_rango = rangos / np.sum(rangos)\n",
        "        while len(next_generation) <= len(self.poblacion):\n",
        "            #print(len(next_generation), \" - \" , len(self.poblacion))\n",
        "            individuo_rango = np.random.choice(a=self.poblacion, size=1, replace=True, p=list(seleccion_rango))\n",
        "            next_generation.append(individuo_rango[0])\n",
        "        return next_generation\n",
        "\n",
        "      elif self.tipo == \"torneo\":\n",
        "        next_generation = []\n",
        "        while len(next_generation) <= len(self.poblacion):\n",
        "            for individuo in self.poblacion:\n",
        "                participantes = np.random.choice(a=self.poblacion, size=3, replace=True)\n",
        "                campeon = max(participantes, key=lambda ind: individuo.value)\n",
        "                next_generation.append(campeon)\n",
        "        return next_generation\n",
        "\n",
        "    def cruce(self):\n",
        "      if self.tipo == \"basado_punto\":\n",
        "        next_generation = []\n",
        "        while len(next_generation) < len(self.poblacion):\n",
        "            x = np.random.randint(len(self.poblacion))\n",
        "            y = np.random.randint(len(self.poblacion))\n",
        "            if x == y:\n",
        "                while x == y:\n",
        "                    y = np.random.randint(len(self.poblacion))\n",
        "            p1 = self.poblacion[x]\n",
        "            p2 = self.poblacion[y]\n",
        "            padre1 = p1.cromosoma\n",
        "            padre2 = p2.cromosoma\n",
        "            n = np.random.randint(len(padre1))\n",
        "            aux = np.array([padre1[:n]])\n",
        "            aux2 = np.array([padre2[:n]])\n",
        "            auxpadre1 = np.array([padre1[n:]])\n",
        "            auxpadre2 = np.array([padre2[n:]])\n",
        "            next_generation.append(individuo(np.concatenate((aux, auxpadre2), axis=None), p1.fitness))\n",
        "            next_generation.append(individuo(np.concatenate((aux2, auxpadre1), axis=None), p2.fitness))\n",
        "        return next_generation\n",
        "\n",
        "      if self.tipo == 'basado_dos_puntos':\n",
        "        next_generation = []\n",
        "        while len(next_generation) <= len(self.poblacion):\n",
        "            x = np.random.randint(len(self.poblacion))\n",
        "            y = np.random.randint(len(self.poblacion))\n",
        "            p1 = self.poblacion[x]\n",
        "            p2 = self.poblacion[y]\n",
        "            padre1 = p1.cromosoma\n",
        "            padre2 = p2.cromosoma\n",
        "            n = np.random.randint(len(padre1) - 1)\n",
        "            i = np.random.randint(n, len(padre1))\n",
        "            if (n == i):\n",
        "                while (n == i):\n",
        "                    i = np.random.randint(n, len(padre1))\n",
        "            aux1 = np.array([padre1[n:i]])\n",
        "            aux2 = np.array([padre2[n:i]])\n",
        "            b1_left = np.array([padre1[:n]])\n",
        "            b2_left = np.array([padre2[:n]])\n",
        "            b1_right = np.array([padre1[i:]])\n",
        "            b2_right = np.array([padre2[i:]])\n",
        "            next_generation.append(individuo(np.concatenate((b1_left, aux2, b1_right), axis=None), p1.fitness))\n",
        "            next_generation.append(individuo(np.concatenate((b2_left, aux1, b2_right), axis=None), p2.fitness))\n",
        "        return next_generation\n",
        "\n",
        "      if self.tipo == 'uniforme':\n",
        "        next_generation = []\n",
        "        while len(next_generation) <= len(self.poblacion):\n",
        "            x = np.random.randint(len(self.poblacion))\n",
        "            y = np.random.randint(len(self.poblacion))\n",
        "            p1 = self.poblacion[x]\n",
        "            p2 = self.poblacion[y]\n",
        "            padre1 = p1.cromosoma\n",
        "            padre2 = p2.cromosoma\n",
        "            hijo = np.array([])\n",
        "            for i in range(len(padre1)):\n",
        "                n = np.random.randint(2)\n",
        "                if (n == 0):\n",
        "                    hijo = np.concatenate((hijo, padre1[i]), axis=None)\n",
        "                if (n == 1):\n",
        "                    hijo = np.concatenate((hijo, padre2[i]), axis=None)\n",
        "            next_generation.append(individuo(hijo, p1.fitness))\n",
        "        return next_generation\n",
        "\n",
        "    def mutacion(self):\n",
        "      if self.tipo == 'flit_bit':\n",
        "        for individuo in self.poblacion:\n",
        "          probality = np.random.rand()\n",
        "          if probality <= self.prob_mutacion:\n",
        "            n = np.random.randint(0, len(individuo.cromosoma) - 1)\n",
        "            current_bit = individuo.cromosoma[n]\n",
        "            new_bit = 1 if current_bit == 0 else 0\n",
        "            new_cromosoma = individuo.cromosoma\n",
        "            new_cromosoma[n] = new_bit\n",
        "            individuo.cromosoma = new_cromosoma\n",
        "        return self.poblacion\n",
        "\n",
        "      if self.tipo == 'swap_mutation':\n",
        "        for individuo in self.poblacion:\n",
        "          probality = np.random.rand()\n",
        "          if probality <= self.prob_mutacion:\n",
        "            n_1 = np.random.randint(0, len(individuo.cromosoma) - 1)\n",
        "            n_2 = np.random.randint(0, len(individuo.cromosoma) - 1)\n",
        "            n_1_bit = individuo.cromosoma[n_1]\n",
        "            n_2_bit = individuo.cromosoma[n_2]\n",
        "            new_cromosoma = individuo.cromosoma\n",
        "            new_cromosoma[n_1_bit] = n_2_bit\n",
        "            new_cromosoma[n_2_bit] = n_1_bit\n",
        "            individuo.cromosoma = new_cromosoma\n",
        "        return self.poblacion\n",
        "\n",
        "      if self.tipo == 'inversion_mutation':\n",
        "        for index, individuo in enumerate(self.poblacion):\n",
        "          probality = np.random.rand()\n",
        "          if probality <= self.prob_mutacion:\n",
        "            n = np.random.randint(1, len(individuo.cromosoma) - 1)\n",
        "            part_individuo = individuo.cromosoma[:n]\n",
        "            list_invert = individuo.cromosoma[n:]\n",
        "            list_invert = list_invert[::-1]\n",
        "            new_cromosoma = np.concatenate((part_individuo, list_invert), axis=0)\n",
        "            individuo.cromosoma = new_cromosoma\n",
        "        return self.poblacion\n",
        "\n",
        "      if self.tipo == 'scramble':\n",
        "        for index, individuo in enumerate(self.poblacion):\n",
        "          probality = np.random.rand()\n",
        "          if probality <= self.prob_mutacion:\n",
        "            n = np.random.randint(1, len(individuo.cromosoma) - 1)\n",
        "            part_individuo = individuo.cromosoma[:n]\n",
        "            list_invert = individuo.cromosoma[n:]\n",
        "            np.random.shuffle(list_invert)\n",
        "            new_cromosoma = np.concatenate((part_individuo, list_invert), axis=0)\n",
        "            individuo.cromosoma = new_cromosoma\n",
        "        return self.poblacion"
      ]
    },
    {
      "cell_type": "markdown",
      "metadata": {
        "id": "dQRPbyMIcClT"
      },
      "source": [
        "## Analisis Descriptivo"
      ]
    },
    {
      "cell_type": "code",
      "execution_count": 275,
      "metadata": {
        "id": "LhA-JIWhEiMj"
      },
      "outputs": [],
      "source": [
        "class AnalisisDescriptivo:\n",
        "    def promedio(poblacion):\n",
        "      my_array = np.array([])\n",
        "      for individuo in poblacion.list_individuos:\n",
        "        my_array = np.append(my_array, individuo.fitness)\n",
        "      return np.mean(my_array)\n",
        "\n",
        "    def tiempo_ejecucion(inicio_tiempo):\n",
        "      #inicio_tiempo = time.time()  # Tiempo inicial\n",
        "      fin_tiempo = time.time()  # Tiempo final\n",
        "      tiempo_ejec = fin_tiempo - inicio_tiempo  # Calcular el tiempo de ejecución\n",
        "      return tiempo_ejec\n",
        "\n",
        "    def total_tiempo_ejecucion(inicio_tiempo, tiempos):\n",
        "      tiempo_ejec = tiempos[-1] - inicio_tiempo\n",
        "      print(\"\\nTiempo total de ejecucion:\")\n",
        "      print(f\" {tiempo_ejec} segundos\")\n",
        "      print(f\" {tiempo_ejec / 60} minutos\")\n",
        "\n",
        "    def extraer_datos_pc():\n",
        "      # Obtener información del sistema\n",
        "      sistema = platform.system()\n",
        "      version = platform.version()\n",
        "      arquitectura = platform.architecture()\n",
        "      procesador = platform.processor()\n",
        "      # Obtener información sobre la memoria\n",
        "      memoria = psutil.virtual_memory()\n",
        "\n",
        "      # Imprimir la información\n",
        "      print(\"\\nInformación del computador:\")\n",
        "      print(f\" Sistema: {sistema}\")\n",
        "      print(f\" Versión: {version}\")\n",
        "      print(f\" Arquitectura: {arquitectura}\")\n",
        "      print(f\" Procesador: {procesador}\")\n",
        "      print(f\" Memoria Total: {memoria.total} bytes\")\n",
        "      print(f\" Memoria Disponible: {memoria.available} bytes\")\n",
        "      print(f\" Porcentaje de Uso de Memoria: {memoria.percent}%\")\n",
        "\n",
        "    def mostrarAnalisis(poblacion):\n",
        "      my_array = [indi.value for indi in poblacion]\n",
        "\n",
        "      print(\"Datos estadisticos:\")\n",
        "      print(\" Media:\", np.mean(my_array))\n",
        "      print(\" Mediana:\", np.median(my_array))\n",
        "      print(\" Mínimo:\", np.min(my_array))\n",
        "      print(\" Máximo:\", np.max(my_array))\n",
        "      print(\" Desviación estándar:\", np.std(my_array))\n",
        "      print(\" Varianza:\", np.var(my_array))\n",
        "\n",
        "    def mejor_individuo(poblacion):\n",
        "      indi = poblacion[0]\n",
        "      for i in poblacion:\n",
        "          if i.value > indi.value:\n",
        "              indi = i\n",
        "      return indi\n",
        "\n",
        "    def peor_individuo(poblacion):\n",
        "      indi = poblacion[0]\n",
        "      for i in poblacion:\n",
        "          if i.value < indi.value:\n",
        "              indi = i\n",
        "      return indi\n",
        "\n",
        "    def promedio_por_generacion(poblacion):\n",
        "      return np.average([inv.value for inv in poblacion])\n"
      ]
    },
    {
      "cell_type": "markdown",
      "metadata": {
        "id": "ncGMVB9PcFH0"
      },
      "source": [
        "## Visualizacion"
      ]
    },
    {
      "cell_type": "code",
      "execution_count": 276,
      "metadata": {
        "id": "HA2lUES4CrBV"
      },
      "outputs": [],
      "source": [
        "class Visualizacion():\n",
        "  def fitnessPromVSgeneracion(prom_por_generacion):\n",
        "    plt.title(\"Promedio fitness por generacion\")\n",
        "    plt.plot(range(len(prom_por_generacion)), prom_por_generacion)\n",
        "    plt.show()\n",
        "    #plt.savefig('Grafica_fitnessVSgeneracion.png')\n",
        "\n",
        "  def tiempoVSgeneracion(tiempos):\n",
        "    plt.title(\"Tiempo (seg) vs Generacion\")\n",
        "    plt.plot(range(len(tiempos)), tiempos)\n",
        "    plt.show()\n",
        "    #plt.savefig('Grafica_tiempoVSgeneracion.png')\n",
        "\n",
        "  #def diagramaCaja(prom_por_generacion):\n",
        "  #  plt.title(\"Fitness por generacion\")\n",
        "  #  plt.boxplot(prom_por_generacion)\n",
        "  #  plt.show()\n",
        "\n",
        "  #def mejores_fitness(best_fitness_generation):\n",
        "  #  plt.title(\"Mejores fitness por generacion\")\n",
        "  #  plt.plot(range(len(best_fitness_generation)), best_fitness_generation)\n",
        "  #  plt.show()\n",
        "\n",
        "  #def peores_fitness(worse_fitness_generation):\n",
        "  #  plt.title(\"Peores fitness por generacion\")\n",
        "  #  plt.plot(range(len(worse_fitness_generation)), worse_fitness_generation)\n",
        "  #  plt.show()"
      ]
    },
    {
      "cell_type": "markdown",
      "metadata": {
        "id": "nYBbGgsISZQS"
      },
      "source": [
        "## Algoritmo Genetico"
      ]
    },
    {
      "cell_type": "code",
      "execution_count": 277,
      "metadata": {
        "id": "DzJBA-t0eBgh"
      },
      "outputs": [],
      "source": [
        "class AlgGenetico:\n",
        "    def __init__(self, poblacion, num_generaciones, seleccion=\"ruleta\", cruce=\"basado_punto\", mutacion=\"flit_bit\",\n",
        "                 prob_cruce=constantes.prob_cruce, prob_mutacion=constantes.prob_mutacion, distribucion_elite=constantes.porc_elitismo):\n",
        "      self.poblacion = poblacion\n",
        "      self.num_generaciones = num_generaciones\n",
        "      self.seleccion = seleccion\n",
        "      self.cruce = cruce\n",
        "      self.mutacion = mutacion\n",
        "      self.prob_cruce = prob_cruce\n",
        "      self.prob_mutacion = prob_mutacion\n",
        "      self.distribucion_elite = distribucion_elite\n",
        "      self.promXgeneracion = []\n",
        "      self.tiempos = []\n",
        "      self.inicio_tiempo = None\n",
        "      #self.mejorFitnessXgeneracion = []\n",
        "      self.mejorIndividuoXgeneracion = []\n",
        "      #self.peorFitnessXgeneracion = []\n",
        "\n",
        "    def mejor_individuo(self, poblacion):\n",
        "      return AnalisisDescriptivo.mejor_individuo(poblacion)\n",
        "\n",
        "    #def peor_individuo(self, poblacion):\n",
        "    #  return AnalisisDescriptivo.peor_individuo(poblacion)\n",
        "\n",
        "    def extraer_tiempo(self):\n",
        "      return AnalisisDescriptivo.tiempo_ejecucion(self.inicio_tiempo)\n",
        "\n",
        "    def seleccion_top(self, poblacion):\n",
        "      sort_poblacion = sorted(poblacion, key=lambda x: x.value, reverse=True)\n",
        "      elite_size = int(len(poblacion) * self.distribution_elite)\n",
        "      elite = sort_poblacion[:elite_size]\n",
        "      otros = sort_poblacion[elite_size:]\n",
        "      return elite, otros\n",
        "\n",
        "    def actualizar_listas(self, poblacionActual):\n",
        "      self.promXgeneracion.append( AnalisisDescriptivo.promedio_por_generacion(poblacionActual) )\n",
        "      self.tiempos.append(self.extraer_tiempo())\n",
        "      self.mejorIndividuoXgeneracion.append( self.mejor_individuo(poblacionActual).cromosoma )\n",
        "      #mejor_indi = self.mejor_individuo(poblacionActual)\n",
        "      #self.mejorIndividuoXgeneracion.append( mejor_indi.cromosoma )\n",
        "\n",
        "      #self.mejorFitnessXgeneracion.append( mejor_indi.value )\n",
        "      #self.peorFitnessXgeneracion.append( self.peor_individuo(poblacionActual).value )\n",
        "\n",
        "    def desarrollo_generaciones(self):\n",
        "      poblacionActual, elite = self.poblacion, []\n",
        "      # Establece el tiempo inicial\n",
        "      self.inicio_tiempo = time.time()\n",
        "      for i in range(self.num_generaciones):\n",
        "          if self.distribucion_elite > 0:\n",
        "              elite, otros = self.seleccion_top(poblacionActual)\n",
        "              poblacionActual = otros\n",
        "              elite = elite\n",
        "          #Seleccion\n",
        "          seleccionPob = OperadorGenetico(poblacionActual, tipo=self.seleccion).opcion()\n",
        "          #print(\"Seleccionado\")\n",
        "          #Cruce\n",
        "          crucePob = OperadorGenetico(seleccionPob, tipo=self.cruce, prob_cruce=self.prob_cruce).opcion()\n",
        "          #print(\"Cruzado\")\n",
        "          #Mutacion\n",
        "          mutacionPob = OperadorGenetico(crucePob, tipo=self.mutacion, prob_cruce=0.5 ,prob_mutacion=self.prob_mutacion).opcion()\n",
        "          #print(\"Mutado\")\n",
        "          if len(elite) > 0:\n",
        "              poblacionActual = [*mutacionPob,*elite]\n",
        "          else:\n",
        "              poblacionActual = mutacionPob\n",
        "          self.actualizar_listas(poblacionActual)\n",
        "      self.poblacion = poblacionActual\n",
        "\n",
        "    def analisis_est(self):\n",
        "      AnalisisDescriptivo.mostrarAnalisis(self.poblacion)\n",
        "      AnalisisDescriptivo.extraer_datos_pc()\n",
        "      AnalisisDescriptivo.total_tiempo_ejecucion(self.inicio_tiempo, self.tiempos)\n",
        "\n",
        "    def diagramas(self):\n",
        "      Visualizacion.fitnessPromVSgeneracion(self.promXgeneracion)\n",
        "      Visualizacion.tiempoVSgeneracion(self.tiempos)"
      ]
    },
    {
      "cell_type": "markdown",
      "metadata": {
        "id": "W1N8NM-pcHfT"
      },
      "source": [
        "## Main"
      ]
    },
    {
      "cell_type": "code",
      "execution_count": 278,
      "metadata": {},
      "outputs": [],
      "source": [
        "def euclidean_distance(v1, v2):\n",
        "    return np.sqrt(np.sum((v1 - v2) ** 2))"
      ]
    },
    {
      "cell_type": "code",
      "execution_count": 279,
      "metadata": {
        "id": "X33h4dT4yR4k"
      },
      "outputs": [],
      "source": [
        "def desordenar_valores_imagen(array):\n",
        "    # Desordenar los valores\n",
        "    valores_desordenados = np.random.permutation(array)\n",
        "    return valores_desordenados"
      ]
    },
    {
      "cell_type": "code",
      "execution_count": 280,
      "metadata": {},
      "outputs": [],
      "source": [
        "def fitness2(array_base, array_init):\n",
        "    return np.sqrt(np.sum((np.array(array_base) - np.array(array_init)) ** 2))"
      ]
    },
    {
      "cell_type": "code",
      "execution_count": 281,
      "metadata": {},
      "outputs": [],
      "source": [
        "def pob_init(array_base):\n",
        "    #poblacion_inicial = [individuo(desordenar_valores_imagen(array_base), fitness) for _ in range(1000)]\n",
        "    #return poblacion_inicial\n",
        "    poblacion_inicial = []\n",
        "    pob = desordenar_valores_imagen(array_base)\n",
        "    #for i in range(len(pob)):\n",
        "    #    poblacion_inicial.append(individuo([pob[i], pob[i+1], pob[i+2]], fitness2( [array_base[i],array_base[i+1],array_base[i+2]] , [pob[i],pob[i+1],pob[i+2]] )))\n",
        "    #    i = i+2\n",
        "    #    print(i)\n",
        "    \n",
        "    #for i in range(0, len(pob) - 2, 3):\n",
        "    #    poblacion_inicial.append(individuo([pob[i], pob[i+1], pob[i+2]], fitness2([array_base[i], array_base[i+1], array_base[i+2]], [pob[i], pob[i+1], pob[i+2]])))\n",
        "        #print(i)\n",
        "    for i in range(int(len(pob)/3)):\n",
        "        poblacion_inicial.append(individuo([pob[i], pob[i+1], pob[i+2]], fitness2( [array_base[i],array_base[i+1],array_base[i+2]] , [pob[i],pob[i+1],pob[i+2]] )))\n",
        "        i = i+3\n",
        "\n",
        "    return poblacion_inicial"
      ]
    },
    {
      "cell_type": "code",
      "execution_count": 282,
      "metadata": {
        "id": "r3IJnym0P60C"
      },
      "outputs": [],
      "source": [
        "def obt_array_matrix(img, factor):\n",
        "  # Convertir la imagen a un arreglo NumPy\n",
        "  matrizExp = np.array(img)\n",
        "  # Convertir el arreglo a un arreglo unidimensional\n",
        "  arrayExp = matrizExp.flatten() / factor\n",
        "  return matrizExp, arrayExp"
      ]
    },
    {
      "cell_type": "code",
      "execution_count": 283,
      "metadata": {
        "id": "M6n4_yC3GqS1"
      },
      "outputs": [],
      "source": [
        "def obtener_el_mejor(exp, matrizExp):\n",
        "  best_individuo = exp.poblacion[0]\n",
        "  for indi in exp.poblacion:\n",
        "      if indi.value > best_individuo.value:\n",
        "          best_individuo = indi\n",
        "  imgResultExp = best_individuo.cromosoma.reshape(matrizExp.shape)\n",
        "  return imgResultExp"
      ]
    },
    {
      "cell_type": "code",
      "execution_count": 284,
      "metadata": {
        "id": "NrL84_F8V9wu"
      },
      "outputs": [],
      "source": [
        "def animation_result(matrizExp, exp, frame, factor):\n",
        "    matrix = np.random.randint(256, size=matrizExp.shape)\n",
        "    fig, ax = plt.subplots()\n",
        "    img = ax.imshow(matrix, cmap='binary')\n",
        "    def update(i):\n",
        "        matrix = (exp.mejorIndividuoXgeneracion[i].reshape(matrizExp.shape) * factor) / 255.0\n",
        "        img.set_data(matrix)\n",
        "        return img,\n",
        "    ani = FuncAnimation(fig, update, frames=frame, interval=100, blit=True)\n",
        "    return ani"
      ]
    },
    {
      "cell_type": "code",
      "execution_count": 285,
      "metadata": {},
      "outputs": [],
      "source": [
        "#def obtenerImg(exp1):\n",
        "    #result = []\n",
        "    #for i in exp1.poblacion:\n",
        "    #    result.append(i.cromosoma[0])\n",
        "    #    result.append(i.cromosoma[1])\n",
        "    #    result.append(i.cromosoma[2])\n",
        "    #return np.array(result)"
      ]
    },
    {
      "cell_type": "code",
      "execution_count": 286,
      "metadata": {},
      "outputs": [],
      "source": [
        "def animation_result2(matrizExp, exp, frame, factor):\n",
        "    matrix = np.random.randint(256, size=matrizExp.shape)\n",
        "    fig, ax = plt.subplots()\n",
        "    img = ax.imshow(matrix, cmap='binary')\n",
        "    def update(i):\n",
        "        matrix = (exp.mejorIndividuoXgeneracion[i].reshape(matrizExp.shape) * factor) / 255.0\n",
        "        img.set_data(matrix)\n",
        "        return img,\n",
        "    ani = FuncAnimation(fig, update, frames=frame, interval=100, blit=True)\n",
        "    return ani"
      ]
    },
    {
      "cell_type": "markdown",
      "metadata": {
        "id": "kKX4TvD1cZ1M"
      },
      "source": [
        "# Imagenes"
      ]
    },
    {
      "cell_type": "markdown",
      "metadata": {
        "id": "xJH7I-dAdY3C"
      },
      "source": [
        "Obtencion de las imagenes"
      ]
    },
    {
      "cell_type": "code",
      "execution_count": 287,
      "metadata": {
        "colab": {
          "base_uri": "https://localhost:8080/"
        },
        "id": "DksubvG5eT5P",
        "outputId": "3c450a4a-0545-4fb3-ae99-dbe7b8ec83fb"
      },
      "outputs": [],
      "source": [
        "#carpeta = \"C:\\\\Users\\\\danieeeel\\\\Documents\\\\Python_proyectos\\\\tallerPatronesII\\\\archivos2\"\n",
        "\n",
        "# Verificar si la carpeta ya existe\n",
        "#if not os.path.exists(carpeta):\n",
        "    # Si no existe, la creamos\n",
        "#    os.mkdir(carpeta)\n",
        "#    url_img_1 = 'https://raw.githubusercontent.com/danieeeel11/Datasets/main/imgVidaArtificial/imagen_grupo.jpg'\n",
        "#    img_1 = Image.open(requests.get(url_img_1, stream=True).raw)\n",
        "#    img_1.save('C:\\\\Users\\\\danieeeel\\\\Documents\\\\Python_proyectos\\\\tallerPatronesII\\\\archivos2\\\\img_original.jpg')\n",
        "\n",
        "    # Dimensiones originales\n",
        "#    ancho_original, alto_original = img_1.size\n",
        "    # Nuevo ancho deseado\n",
        "#    nuevo_ancho = 1080\n",
        "    # Calcula el nuevo alto manteniendo la proporción original\n",
        "#    nuevo_alto = int((nuevo_ancho / ancho_original) * alto_original)\n",
        "    # Redimensiona la imagen\n",
        "#    img_1 = img_1.resize((nuevo_ancho, nuevo_alto))\n",
        "\n",
        "    # Guarda la imagen redimensionada\n",
        "#    img_1.save('C:\\\\Users\\\\danieeeel\\\\Documents\\\\Python_proyectos\\\\tallerPatronesII\\\\archivos2\\\\img_redimensionada.jpg')\n",
        "\n",
        "# Listar el contenido actual del directorio\n",
        "#print(\"Contenido de la carpeta imagenes:\")\n",
        "#print(os.listdir(\"C:\\\\Users\\\\danieeeel\\\\Documents\\\\Python_proyectos\\\\tallerPatronesII\\\\archivos2\"))"
      ]
    },
    {
      "cell_type": "code",
      "execution_count": 288,
      "metadata": {},
      "outputs": [],
      "source": [
        "url_img_1 = 'https://raw.githubusercontent.com/danieeeel11/Datasets/main/imgVidaArtificial/Paisaje.png'\n",
        "img_1 = Image.open(requests.get(url_img_1, stream=True).raw)\n",
        "\n",
        "\n",
        "    # Dimensiones originales\n",
        "#ancho_original, alto_original = img_1.size\n",
        "    # Nuevo ancho deseado\n",
        "#nuevo_ancho = 1080\n",
        "    # Calcula el nuevo alto manteniendo la proporción original\n",
        "#nuevo_alto = int((nuevo_ancho / ancho_original) * alto_original)\n",
        "    # Redimensiona la imagen\n",
        "#img_1 = img_1.resize((nuevo_ancho, nuevo_alto))"
      ]
    },
    {
      "cell_type": "markdown",
      "metadata": {
        "id": "U7pbdQNQcmcL"
      },
      "source": [
        "Imagen 1"
      ]
    },
    {
      "cell_type": "code",
      "execution_count": 289,
      "metadata": {
        "colab": {
          "base_uri": "https://localhost:8080/"
        },
        "id": "B6qv-mtrcbwZ",
        "outputId": "a408911f-15cd-4a57-bbfa-9dad576f842b"
      },
      "outputs": [
        {
          "data": {
            "text/plain": [
              "(12, 19, 3)"
            ]
          },
          "execution_count": 289,
          "metadata": {},
          "output_type": "execute_result"
        }
      ],
      "source": [
        "np_img1 = np.array(img_1)\n",
        "np_img1.shape"
      ]
    },
    {
      "cell_type": "code",
      "execution_count": 290,
      "metadata": {
        "colab": {
          "base_uri": "https://localhost:8080/",
          "height": 452
        },
        "id": "1x9tPylbgos1",
        "outputId": "e88991e4-8770-4ae1-c6fb-30e126d3d876"
      },
      "outputs": [
        {
          "data": {
            "text/plain": [
              "<matplotlib.image.AxesImage at 0x24f85ec48f0>"
            ]
          },
          "execution_count": 290,
          "metadata": {},
          "output_type": "execute_result"
        },
        {
          "data": {
            "image/png": "[encoded data removed]",
            "text/plain": [
              "<Figure size 640x480 with 1 Axes>"
            ]
          },
          "metadata": {},
          "output_type": "display_data"
        }
      ],
      "source": [
        "plt.imshow(np_img1, cmap='gray')"
      ]
    },
    {
      "cell_type": "markdown",
      "metadata": {
        "id": "SHtf3rbZcKbb"
      },
      "source": [
        "# Pruebas"
      ]
    },
    {
      "cell_type": "markdown",
      "metadata": {
        "id": "S_CvVaFBbo3o"
      },
      "source": [
        "## Primer experimento"
      ]
    },
    {
      "cell_type": "code",
      "execution_count": 291,
      "metadata": {
        "id": "_yDYf7FP1m4z"
      },
      "outputs": [],
      "source": [
        "# Factor de escala\n",
        "factor = constantes.factor\n",
        "# Numero de generaciones\n",
        "generaciones = constantes.num_generaciones"
      ]
    },
    {
      "cell_type": "code",
      "execution_count": 292,
      "metadata": {
        "colab": {
          "base_uri": "https://localhost:8080/",
          "height": 406
        },
        "id": "1xCGkgDx0CPO",
        "outputId": "f2260290-d7ac-4596-fce3-a84687bbea4c"
      },
      "outputs": [
        {
          "data": {
            "image/png": "[encoded data removed]",
            "text/plain": [
              "<Figure size 640x480 with 1 Axes>"
            ]
          },
          "metadata": {},
          "output_type": "display_data"
        }
      ],
      "source": [
        "matrizExp1, arrayExp1 = obt_array_matrix(img_1, factor)\n",
        "plt.imshow(matrizExp1, cmap='binary')\n",
        "plt.xticks([])\n",
        "plt.yticks([])\n",
        "plt.show()"
      ]
    },
    {
      "cell_type": "code",
      "execution_count": 293,
      "metadata": {
        "id": "2agldBDj3vN_"
      },
      "outputs": [],
      "source": [
        "def fitness(array, cromosoma):\n",
        "    return len(cromosoma) - euclidean_distance(array, cromosoma)"
      ]
    },
    {
      "cell_type": "code",
      "execution_count": 294,
      "metadata": {
        "id": "xP_RF0860AB8"
      },
      "outputs": [
        {
          "name": "stdout",
          "output_type": "stream",
          "text": [
            "228.0\n"
          ]
        }
      ],
      "source": [
        "poblacion_inicial = pob_init(arrayExp1)"
      ]
    },
    {
      "cell_type": "markdown",
      "metadata": {
        "id": "oKqqh0VL-YPD"
      },
      "source": [
        "Operadores Geneticos utilizados:\n",
        "* Seleccion Ranking\n",
        "* Cruce Uniforme\n",
        "* Mutacion Flit-bit"
      ]
    },
    {
      "cell_type": "markdown",
      "metadata": {
        "id": "hNaSBpzv-sVg"
      },
      "source": [
        " Hiperparámetros:\n",
        " * Probabilidad de mutación = 0.97\n",
        " * Probabilidad de cruce = 0.1\n",
        " * Porcentaje de elitismo = 0"
      ]
    },
    {
      "cell_type": "code",
      "execution_count": 295,
      "metadata": {
        "id": "mfwX5M3ubn8e"
      },
      "outputs": [],
      "source": [
        "exp1 = AlgGenetico( poblacion_inicial, num_generaciones=generaciones, seleccion=\"ranking\", cruce=\"uniforme\", mutacion=\"flit_bit\")\n",
        "exp1.desarrollo_generaciones()"
      ]
    },
    {
      "cell_type": "code",
      "execution_count": 296,
      "metadata": {
        "id": "KCcrQbmdCpel"
      },
      "outputs": [
        {
          "name": "stdout",
          "output_type": "stream",
          "text": [
            "Analisis Estadistico\n",
            "\n",
            "Datos estadisticos:\n",
            " Media: 15.684336135138143\n",
            " Mediana: 15.684336135138139\n",
            " Mínimo: 15.684336135138139\n",
            " Máximo: 15.684336135138139\n",
            " Desviación estándar: 3.552713678800501e-15\n",
            " Varianza: 1.262177448353619e-29\n",
            "\n",
            "Información del computador:\n",
            " Sistema: Windows\n",
            " Versión: 10.0.19045\n",
            " Arquitectura: ('64bit', 'WindowsPE')\n",
            " Procesador: AMD64 Family 21 Model 101 Stepping 1, AuthenticAMD\n",
            " Memoria Total: 12293189632 bytes\n",
            " Memoria Disponible: 6942121984 bytes\n",
            " Porcentaje de Uso de Memoria: 43.5%\n",
            "\n",
            "Tiempo total de ejecucion:\n",
            " -1700883073.8963459 segundos\n",
            " -28348051.231605764 minutos\n"
          ]
        }
      ],
      "source": [
        "print(\"Analisis Estadistico\\n\")\n",
        "exp1.analisis_est()"
      ]
    },
    {
      "cell_type": "code",
      "execution_count": 297,
      "metadata": {
        "id": "U8UhF-Lb0v9O"
      },
      "outputs": [
        {
          "name": "stdout",
          "output_type": "stream",
          "text": [
            "Diagramas\n",
            "\n"
          ]
        },
        {
          "data": {
            "image/png": "[encoded data removed]",
            "text/plain": [
              "<Figure size 640x480 with 1 Axes>"
            ]
          },
          "metadata": {},
          "output_type": "display_data"
        },
        {
          "data": {
            "image/png": "[encoded data removed]",
            "text/plain": [
              "<Figure size 640x480 with 1 Axes>"
            ]
          },
          "metadata": {},
          "output_type": "display_data"
        }
      ],
      "source": [
        "print(\"Diagramas\\n\")\n",
        "exp1.diagramas()"
      ]
    },
    {
      "cell_type": "code",
      "execution_count": 298,
      "metadata": {},
      "outputs": [
        {
          "data": {
            "text/plain": [
              "684"
            ]
          },
          "execution_count": 298,
          "metadata": {},
          "output_type": "execute_result"
        }
      ],
      "source": [
        "len(arrayExp1)"
      ]
    },
    {
      "cell_type": "code",
      "execution_count": 299,
      "metadata": {},
      "outputs": [
        {
          "data": {
            "text/plain": [
              "628"
            ]
          },
          "execution_count": 299,
          "metadata": {},
          "output_type": "execute_result"
        }
      ],
      "source": [
        "len(exp1.poblacion)"
      ]
    },
    {
      "cell_type": "code",
      "execution_count": 309,
      "metadata": {
        "id": "LMLq06mvBBFK"
      },
      "outputs": [
        {
          "name": "stdout",
          "output_type": "stream",
          "text": [
            "1884\n"
          ]
        }
      ],
      "source": [
        "def obtenerResult(exp1):\n",
        "    result = []\n",
        "    for i in exp1.poblacion:\n",
        "        result.append(i.cromosoma[0])\n",
        "        result.append(i.cromosoma[1])\n",
        "        result.append(i.cromosoma[2])\n",
        "    print(len(result))\n",
        "    return np.array(result[:684])\n",
        "#imgResultExp1 = obtener_el_mejor(exp1, matrizExp1)\n",
        "imgResultExp1 = obtenerResult(exp1).reshape(matrizExp1.shape)\n",
        "imgResult = (imgResultExp1 * factor) / 255.0\n",
        "#imgResult.save('C:\\\\Users\\\\danieeeel\\\\Documents\\\\Python_proyectos\\\\tallerPatrones\\\\imagenes\\\\resultadoFinal.jpg')"
      ]
    },
    {
      "cell_type": "code",
      "execution_count": 310,
      "metadata": {
        "id": "Irk3_9ad12Nf"
      },
      "outputs": [
        {
          "name": "stdout",
          "output_type": "stream",
          "text": [
            "Resultado Final\n",
            "\n"
          ]
        },
        {
          "data": {
            "image/png": "[encoded data removed]",
            "text/plain": [
              "<Figure size 1000x600 with 2 Axes>"
            ]
          },
          "metadata": {},
          "output_type": "display_data"
        }
      ],
      "source": [
        "print(\"Resultado Final\\n\")\n",
        "\n",
        "plt.figure(figsize=(10, 6))\n",
        "\n",
        "# Imagen original\n",
        "plt.subplot(1, 2, 1)\n",
        "plt.imshow(img_1, cmap='gray')\n",
        "plt.title('Imagen original')\n",
        "plt.axis('off')\n",
        "\n",
        "# Imagen resultante\n",
        "plt.subplot(1, 2, 2)\n",
        "plt.imshow(imgResult, cmap='binary')\n",
        "plt.title('Imagen resultante')\n",
        "plt.axis('off')\n",
        "\n",
        "plt.tight_layout()\n",
        "plt.show()"
      ]
    },
    {
      "cell_type": "markdown",
      "metadata": {
        "id": "CVwbPZCR1ZDU"
      },
      "source": [
        "### Animacion"
      ]
    },
    {
      "cell_type": "code",
      "execution_count": null,
      "metadata": {
        "id": "P2whgXi_WXkL"
      },
      "outputs": [],
      "source": [
        "ani1 = animation_result(matrizExp1, exp1, generaciones, factor)\n",
        "ani1.save('C:\\\\Users\\\\danieeeel\\\\Documents\\\\Python_proyectos\\\\tallerPatrones\\\\imagenes\\\\animacion.gif', writer='pillow')"
      ]
    },
    {
      "cell_type": "code",
      "execution_count": null,
      "metadata": {
        "id": "jpwttE1webO4"
      },
      "outputs": [],
      "source": [
        "#HTML(ani1.to_jshtml())\n",
        "display.display(display.Image(filename=\"C:\\\\Users\\\\danieeeel\\\\Documents\\\\Python_proyectos\\\\tallerPatrones\\\\imagenes\\\\animacion.gif\"))"
      ]
    }
  ],
  "metadata": {
    "accelerator": "GPU",
    "colab": {
      "collapsed_sections": [
        "oUkQk69-R5vK",
        "TT5EsKISb-jc",
        "dQRPbyMIcClT",
        "ncGMVB9PcFH0",
        "nYBbGgsISZQS",
        "W1N8NM-pcHfT",
        "kKX4TvD1cZ1M"
      ],
      "gpuType": "T4",
      "provenance": []
    },
    "kernelspec": {
      "display_name": "Python 3",
      "name": "python3"
    },
    "language_info": {
      "codemirror_mode": {
        "name": "ipython",
        "version": 3
      },
      "file_extension": ".py",
      "mimetype": "text/x-python",
      "name": "python",
      "nbconvert_exporter": "python",
      "pygments_lexer": "ipython3",
      "version": "3.12.0"
    }
  },
  "nbformat": 4,
  "nbformat_minor": 0
}
